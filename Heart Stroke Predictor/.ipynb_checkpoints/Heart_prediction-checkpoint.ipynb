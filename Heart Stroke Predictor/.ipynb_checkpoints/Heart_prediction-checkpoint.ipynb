{
 "cells": [
  {
   "cell_type": "code",
   "execution_count": 1,
   "metadata": {
    "colab": {
     "base_uri": "https://localhost:8080/"
    },
    "id": "0zCqZiVqml54",
    "outputId": "3deb5f1c-018d-4141-a705-243ad0e090bb"
   },
   "outputs": [
    {
     "name": "stdout",
     "output_type": "stream",
     "text": [
      "Requirement already satisfied: numpy in c:\\users\\adholokham\\anaconda3\\lib\\site-packages (1.20.3)\n",
      "Note: you may need to restart the kernel to use updated packages.\n"
     ]
    }
   ],
   "source": [
    "pip install numpy"
   ]
  },
  {
   "cell_type": "code",
   "execution_count": 2,
   "metadata": {
    "colab": {
     "base_uri": "https://localhost:8080/"
    },
    "id": "e2eIHB_5mmC1",
    "outputId": "f65c9ad3-9f9a-4753-c853-1a124a36358d"
   },
   "outputs": [
    {
     "name": "stdout",
     "output_type": "stream",
     "text": [
      "Requirement already satisfied: pandas in c:\\users\\adholokham\\anaconda3\\lib\\site-packages (1.3.4)\n",
      "Requirement already satisfied: pytz>=2017.3 in c:\\users\\adholokham\\anaconda3\\lib\\site-packages (from pandas) (2021.3)\n",
      "Requirement already satisfied: numpy>=1.17.3 in c:\\users\\adholokham\\anaconda3\\lib\\site-packages (from pandas) (1.20.3)\n",
      "Requirement already satisfied: python-dateutil>=2.7.3 in c:\\users\\adholokham\\anaconda3\\lib\\site-packages (from pandas) (2.8.2)\n",
      "Requirement already satisfied: six>=1.5 in c:\\users\\adholokham\\anaconda3\\lib\\site-packages (from python-dateutil>=2.7.3->pandas) (1.16.0)\n",
      "Note: you may need to restart the kernel to use updated packages.\n"
     ]
    }
   ],
   "source": [
    "pip install pandas"
   ]
  },
  {
   "cell_type": "code",
   "execution_count": 3,
   "metadata": {
    "colab": {
     "base_uri": "https://localhost:8080/"
    },
    "id": "QrfLKh42mmF4",
    "outputId": "8e36e6a0-d514-4a4c-9ca7-e84fda65a54d"
   },
   "outputs": [
    {
     "name": "stdout",
     "output_type": "stream",
     "text": [
      "Requirement already satisfied: scikit-learn in c:\\users\\adholokham\\anaconda3\\lib\\site-packages (1.2.1)\n",
      "Requirement already satisfied: scipy>=1.3.2 in c:\\users\\adholokham\\anaconda3\\lib\\site-packages (from scikit-learn) (1.7.1)\n",
      "Requirement already satisfied: numpy>=1.17.3 in c:\\users\\adholokham\\anaconda3\\lib\\site-packages (from scikit-learn) (1.20.3)\n",
      "Requirement already satisfied: joblib>=1.1.1 in c:\\users\\adholokham\\anaconda3\\lib\\site-packages (from scikit-learn) (1.2.0)\n",
      "Requirement already satisfied: threadpoolctl>=2.0.0 in c:\\users\\adholokham\\anaconda3\\lib\\site-packages (from scikit-learn) (2.2.0)\n",
      "Note: you may need to restart the kernel to use updated packages.\n"
     ]
    }
   ],
   "source": [
    "pip install scikit-learn"
   ]
  },
  {
   "cell_type": "code",
   "execution_count": 4,
   "metadata": {
    "colab": {
     "base_uri": "https://localhost:8080/"
    },
    "id": "PhyNtKv6mmI3",
    "outputId": "a1742fca-255d-42e5-bc90-706ee89c88b5"
   },
   "outputs": [
    {
     "name": "stdout",
     "output_type": "stream",
     "text": [
      "Requirement already satisfied: matplotlib in c:\\users\\adholokham\\anaconda3\\lib\\site-packages (3.4.3)\n",
      "Requirement already satisfied: kiwisolver>=1.0.1 in c:\\users\\adholokham\\anaconda3\\lib\\site-packages (from matplotlib) (1.3.1)\n",
      "Requirement already satisfied: cycler>=0.10 in c:\\users\\adholokham\\anaconda3\\lib\\site-packages (from matplotlib) (0.10.0)\n",
      "Requirement already satisfied: pillow>=6.2.0 in c:\\users\\adholokham\\anaconda3\\lib\\site-packages (from matplotlib) (8.4.0)\n",
      "Requirement already satisfied: numpy>=1.16 in c:\\users\\adholokham\\anaconda3\\lib\\site-packages (from matplotlib) (1.20.3)\n",
      "Requirement already satisfied: python-dateutil>=2.7 in c:\\users\\adholokham\\anaconda3\\lib\\site-packages (from matplotlib) (2.8.2)\n",
      "Requirement already satisfied: pyparsing>=2.2.1 in c:\\users\\adholokham\\anaconda3\\lib\\site-packages (from matplotlib) (3.0.4)\n",
      "Requirement already satisfied: six in c:\\users\\adholokham\\anaconda3\\lib\\site-packages (from cycler>=0.10->matplotlib) (1.16.0)\n",
      "Note: you may need to restart the kernel to use updated packages.\n"
     ]
    }
   ],
   "source": [
    "pip install matplotlib"
   ]
  },
  {
   "cell_type": "code",
   "execution_count": null,
   "metadata": {
    "colab": {
     "base_uri": "https://localhost:8080/"
    },
    "id": "9XvCq5TVmmM2",
    "outputId": "d40b478c-11ed-40b7-c803-8a7381ca6c35"
   },
   "outputs": [],
   "source": [
    "pip install pickle-mixin"
   ]
  },
  {
   "cell_type": "code",
   "execution_count": null,
   "metadata": {
    "colab": {
     "base_uri": "https://localhost:8080/"
    },
    "id": "k84KUuXVmmOF",
    "outputId": "e6a1e632-210f-406a-b626-e3f56d57417b"
   },
   "outputs": [],
   "source": [
    "pip install seaborn"
   ]
  },
  {
   "cell_type": "code",
   "execution_count": null,
   "metadata": {
    "colab": {
     "base_uri": "https://localhost:8080/"
    },
    "id": "pWZEo7vWmmPb",
    "outputId": "25f55a08-badd-4840-aef3-37d31ba3df9d"
   },
   "outputs": [],
   "source": [
    "pip install imblearn"
   ]
  },
  {
   "cell_type": "code",
   "execution_count": null,
   "metadata": {
    "colab": {
     "base_uri": "https://localhost:8080/"
    },
    "id": "0YRhUk3ImmS7",
    "outputId": "c11ad44e-0be6-44b8-8745-580eac694979"
   },
   "outputs": [],
   "source": [
    "pip install pandas-profiling"
   ]
  },
  {
   "cell_type": "code",
   "execution_count": null,
   "metadata": {
    "colab": {
     "base_uri": "https://localhost:8080/"
    },
    "id": "KMX4W24-nvDq",
    "outputId": "84bfe9e3-84ae-4e0a-f226-9f0bc77e8718"
   },
   "outputs": [],
   "source": [
    "pip install Flask"
   ]
  },
  {
   "cell_type": "code",
   "execution_count": null,
   "metadata": {
    "id": "jvQKvvtZAMTR"
   },
   "outputs": [],
   "source": [
    "import warnings\n",
    "warnings.filterwarnings(\"always\")\n",
    "warnings.filterwarnings(\"ignore\")"
   ]
  },
  {
   "cell_type": "code",
   "execution_count": null,
   "metadata": {
    "id": "sOGJ72FXjbsE"
   },
   "outputs": [],
   "source": [
    "import numpy as np\n",
    "import pandas as pd\n",
    "import matplotlib.pyplot as plt\n",
    "from matplotlib import style\n",
    "import seaborn as sns\n",
    "import pandas_profiling as pdp"
   ]
  },
  {
   "cell_type": "code",
   "execution_count": null,
   "metadata": {
    "id": "IBnwTI8EAPKn"
   },
   "outputs": [],
   "source": [
    "%matplotlib inline\n",
    "style.use('fivethirtyeight')\n",
    "sns.set(style='whitegrid',color_codes=True)\n"
   ]
  },
  {
   "cell_type": "code",
   "execution_count": null,
   "metadata": {
    "colab": {
     "base_uri": "https://localhost:8080/"
    },
    "id": "_p1m8RYXAMkv",
    "outputId": "b9baef10-f43a-4bcd-9dc7-1a3a83c04bce"
   },
   "outputs": [],
   "source": [
    "pip install catboost\n"
   ]
  },
  {
   "cell_type": "code",
   "execution_count": null,
   "metadata": {
    "id": "GOLYMccYAMw_"
   },
   "outputs": [],
   "source": [
    "from sklearn.linear_model import LogisticRegression \n",
    "from sklearn.svm import LinearSVC, SVC\n",
    "from sklearn.neighbors import KNeighborsClassifier\n",
    "from sklearn.ensemble import RandomForestClassifier, GradientBoostingClassifier, AdaBoostClassifier\n",
    "from sklearn.tree import DecisionTreeClassifier\n",
    "from sklearn.naive_bayes import GaussianNB\n",
    "import xgboost as xgb\n",
    "import lightgbm as lgbm\n",
    "import catboost as cb\n",
    "from sklearn.ensemble import AdaBoostClassifier"
   ]
  },
  {
   "cell_type": "code",
   "execution_count": null,
   "metadata": {
    "id": "TnJAoBjAIf33"
   },
   "outputs": [],
   "source": [
    "from sklearn.model_selection import train_test_split, cross_validate\n",
    "from sklearn.model_selection import KFold\n",
    "from sklearn.model_selection import GridSearchCV"
   ]
  },
  {
   "cell_type": "code",
   "execution_count": null,
   "metadata": {
    "id": "fTDfkLm1IgJT"
   },
   "outputs": [],
   "source": [
    "from sklearn.preprocessing import MinMaxScaler, StandardScaler, LabelEncoder\n"
   ]
  },
  {
   "cell_type": "code",
   "execution_count": null,
   "metadata": {
    "id": "0A3RGk4xI54J"
   },
   "outputs": [],
   "source": [
    "from sklearn.metrics import mean_squared_log_error,mean_squared_error, r2_score,mean_absolute_error # for\n",
    "from sklearn.metrics import accuracy_score, precision_score,recall_score,f1_score"
   ]
  },
  {
   "cell_type": "code",
   "execution_count": null,
   "metadata": {
    "id": "3Bs4p2yfI566"
   },
   "outputs": [],
   "source": [
    "from sklearn.metrics import classification_report\n",
    "from sklearn.metrics import confusion_matrix\n",
    "from sklearn.model_selection import cross_val_score\n"
   ]
  },
  {
   "cell_type": "code",
   "execution_count": null,
   "metadata": {
    "colab": {
     "base_uri": "https://localhost:8080/",
     "height": 250
    },
    "id": "B3IpYXVWI5_s",
    "outputId": "97e15f6d-f87d-4521-bbca-c5113a4fc3b4"
   },
   "outputs": [],
   "source": [
    "df = pd.read_csv(r\"/heart_failure_dataset\")\n",
    "df.head()\n"
   ]
  },
  {
   "cell_type": "code",
   "execution_count": null,
   "metadata": {
    "colab": {
     "base_uri": "https://localhost:8080/"
    },
    "id": "cQYj-rIXwepG",
    "outputId": "9106bfe5-880d-403c-d30c-888f89577a97"
   },
   "outputs": [],
   "source": [
    "df.shape\n"
   ]
  },
  {
   "cell_type": "code",
   "execution_count": null,
   "metadata": {
    "colab": {
     "base_uri": "https://localhost:8080/"
    },
    "id": "9EsppZSVI6DY",
    "outputId": "a50f411f-2d82-457f-8d95-cb463d8605b5"
   },
   "outputs": [],
   "source": [
    "df.info()"
   ]
  },
  {
   "cell_type": "code",
   "execution_count": null,
   "metadata": {
    "colab": {
     "base_uri": "https://localhost:8080/",
     "height": 1000
    },
    "id": "z-nxV2ruI6FO",
    "outputId": "5383b508-7c7c-4eee-cf59-de80312ec8cf"
   },
   "outputs": [],
   "source": [
    "fig, axes = plt.subplots(nrows = 5, ncols = 2, figsize = (12, 20))\n",
    "sns.boxplot(x = 'avg_glucose_level', data = df, ax=axes[0][0])\n",
    "sns.boxplot(x = 'age', data = df, ax=axes[1][0])\n",
    "sns.boxplot(x = 'bmi', data = df, ax=axes[2][0])\n",
    "sns.boxplot(x = 'smoking_status', y = 'age', hue = 'stroke', data = df, ax=axes[3][0])\n",
    "sns.boxplot(x = 'hypertension', y = 'age', hue = 'stroke', data = df, ax=axes[3][1])\n",
    "sns.boxplot(x = 'heart_disease', y = 'age', hue = 'stroke', data = df, ax=axes[0][1])\n",
    "sns.boxplot(x = 'ever_married',y = 'age', hue = 'stroke', data = df, ax = axes[1][1])\n",
    "sns.boxplot(x = 'work_type',y = 'age', hue = 'stroke', data = df, ax = axes[2][1])\n",
    "sns.boxplot(x = 'Residence_type',y = 'age', hue = 'stroke', data = df, ax = axes[4][0])  \n",
    "sns.boxplot(x = 'smoking_status',y = 'age', hue = 'stroke', data = df, ax = axes[4][0])\n",
    " "
   ]
  },
  {
   "cell_type": "code",
   "execution_count": null,
   "metadata": {
    "colab": {
     "base_uri": "https://localhost:8080/",
     "height": 318
    },
    "id": "x0SA6s5AI6Is",
    "outputId": "49e7fdaa-75f8-4579-c557-97eb3ed0dc88"
   },
   "outputs": [],
   "source": [
    "sns.barplot(x = 'stroke', y = 'smoking_status', data = df)"
   ]
  },
  {
   "cell_type": "code",
   "execution_count": null,
   "metadata": {
    "colab": {
     "base_uri": "https://localhost:8080/",
     "height": 250
    },
    "id": "g_ec1aF8abkA",
    "outputId": "91a24931-5add-4862-b666-525c820dc74f"
   },
   "outputs": [],
   "source": [
    "replace_values = {'unknow':'never smoked'}\n",
    "df = df.replace({'smoking_status':replace_values})\n",
    "df.head()"
   ]
  },
  {
   "cell_type": "code",
   "execution_count": null,
   "metadata": {
    "colab": {
     "base_uri": "https://localhost:8080/",
     "height": 569
    },
    "id": "83320xRJabmx",
    "outputId": "b9933970-80cf-4788-97c7-7e2d60e52a4d"
   },
   "outputs": [],
   "source": [
    "plt.figure(figsize = (18,9))\n",
    "sns.heatmap(df.corr(),annot = True)\n",
    "plt.show()"
   ]
  },
  {
   "cell_type": "code",
   "execution_count": null,
   "metadata": {
    "colab": {
     "base_uri": "https://localhost:8080/",
     "height": 300
    },
    "id": "F5k-pjsUabpu",
    "outputId": "e727b3d6-ec68-45e9-bcd4-ed580eab05c4"
   },
   "outputs": [],
   "source": [
    "df.describe()\n"
   ]
  },
  {
   "cell_type": "code",
   "execution_count": null,
   "metadata": {
    "colab": {
     "base_uri": "https://localhost:8080/"
    },
    "id": "BeiwQ8Ubabr2",
    "outputId": "d1a4fa21-a40c-4677-b5f6-9569f2de3d79"
   },
   "outputs": [],
   "source": [
    "df = df.drop('id',axis = 1)\n",
    "df.shape"
   ]
  },
  {
   "cell_type": "code",
   "execution_count": null,
   "metadata": {
    "colab": {
     "base_uri": "https://localhost:8080/"
    },
    "id": "HySQfWH_abu-",
    "outputId": "b553097a-e7f6-4228-d1d1-0f73a09c2e26"
   },
   "outputs": [],
   "source": [
    "df.isnull().sum()"
   ]
  },
  {
   "cell_type": "code",
   "execution_count": null,
   "metadata": {
    "colab": {
     "base_uri": "https://localhost:8080/"
    },
    "id": "9ecbW0Ikabyh",
    "outputId": "98a18560-c93c-4485-b733-251294b001e9"
   },
   "outputs": [],
   "source": [
    "df.dropna(inplace=True)\n",
    "df.isnull().sum()"
   ]
  },
  {
   "cell_type": "code",
   "execution_count": null,
   "metadata": {
    "id": "5t91N4_5ab66"
   },
   "outputs": [],
   "source": [
    "def remove_outliers (data):\n",
    "   arr=[]\n",
    "#print(max(list(data)))\n",
    "   q1=np.percentile(data,25)\n",
    "   q3=np.percentile(data,75)\n",
    "   iqr=q3-q1\n",
    "   mi=q1-(1.5*iqr)\n",
    "   ma=q3+(1.5*iqr)\n",
    "#print(mi,ma)\n",
    "   for i in list(data):\n",
    "      if i<mi:\n",
    "         i=mi\n",
    "         arr.append(i)\n",
    "      elif i>ma:\n",
    "           i=ma\n",
    "           arr.append(i)\n",
    "      else:\n",
    "           arr.append(i)\n",
    "#print (max(arr))\n",
    "   return arr"
   ]
  },
  {
   "cell_type": "code",
   "execution_count": null,
   "metadata": {
    "colab": {
     "base_uri": "https://localhost:8080/"
    },
    "id": "8Zlc4gysOxRs",
    "outputId": "eea813c6-d8a5-4b2b-fc53-e78f1cc6fed9"
   },
   "outputs": [],
   "source": [
    "df['bmi'] = remove_outliers (df['bmi'])\n",
    "df['avg_glucose_level']= remove_outliers (df['avg_glucose_level'])\n",
    "print('Outliers successfully removed')"
   ]
  },
  {
   "cell_type": "code",
   "execution_count": null,
   "metadata": {
    "colab": {
     "base_uri": "https://localhost:8080/",
     "height": 381
    },
    "id": "_aFrP4YxOxhf",
    "outputId": "4d5007de-3cde-46d8-95ae-8a1d79377067"
   },
   "outputs": [],
   "source": [
    "fig, axes = plt.subplots(nrows = 2, ncols = 2, figsize = (10, 5))\n",
    "sns.boxplot(x = 'bmi', data\n",
    "= df, ax=axes[1][0])\n",
    "sns.boxplot(x= 'avg_glucose_level', data = df, ax=axes[0][0])"
   ]
  },
  {
   "cell_type": "code",
   "execution_count": null,
   "metadata": {
    "colab": {
     "base_uri": "https://localhost:8080/"
    },
    "id": "Ir8x72grOxmg",
    "outputId": "1bdfa57b-f13f-425d-9128-5bd0a766c61e"
   },
   "outputs": [],
   "source": [
    "for i in ['gender', 'ever_married', 'work_type', 'Residence_type', 'smoking_status']: \n",
    "  print(df[i].unique())"
   ]
  },
  {
   "cell_type": "code",
   "execution_count": null,
   "metadata": {
    "id": "zf_teT8NOxoa"
   },
   "outputs": [],
   "source": [
    "from sklearn.preprocessing import LabelEncoder\n",
    "le1 = LabelEncoder()\n",
    "le2 = LabelEncoder()\n",
    "df['Residence_type'] = le1.fit_transform(df[ 'Residence_type'])\n",
    "df['ever_married'] = le2.fit_transform(df['ever_married'])"
   ]
  },
  {
   "cell_type": "code",
   "execution_count": null,
   "metadata": {
    "colab": {
     "base_uri": "https://localhost:8080/"
    },
    "id": "f3KPrGYIOxp3",
    "outputId": "e418bd06-ef75-4f21-8f73-23a18745cf4f"
   },
   "outputs": [],
   "source": [
    "import joblib\n",
    "joblib.dump(le1,\"res_transform\")\n",
    "joblib.dump(1e2, \"mar_transform\")"
   ]
  },
  {
   "cell_type": "code",
   "execution_count": null,
   "metadata": {
    "colab": {
     "base_uri": "https://localhost:8080/"
    },
    "id": "RkN4VJpTOxrk",
    "outputId": "a8a691e4-10f5-4759-922c-bc522fd697cf"
   },
   "outputs": [],
   "source": [
    "df.shape\n"
   ]
  },
  {
   "cell_type": "code",
   "execution_count": null,
   "metadata": {
    "colab": {
     "base_uri": "https://localhost:8080/"
    },
    "id": "DSUeGLlFOxtn",
    "outputId": "cd452d66-36e7-46ac-ab54-4a58989a8a78"
   },
   "outputs": [],
   "source": [
    "df.iloc[0,:]"
   ]
  },
  {
   "cell_type": "code",
   "execution_count": null,
   "metadata": {
    "colab": {
     "base_uri": "https://localhost:8080/",
     "height": 206
    },
    "id": "-A4lLYHjQae7",
    "outputId": "00495175-1757-46c5-acf5-265415ba142a"
   },
   "outputs": [],
   "source": [
    "df.head()"
   ]
  },
  {
   "cell_type": "code",
   "execution_count": null,
   "metadata": {
    "id": "xfsETv66QaoH"
   },
   "outputs": [],
   "source": [
    "X = df.iloc[:,0:10].values\n",
    "y = df.iloc[:,10].values"
   ]
  },
  {
   "cell_type": "code",
   "execution_count": null,
   "metadata": {
    "id": "K8VLCXUkQauH"
   },
   "outputs": [],
   "source": [
    "from sklearn.compose import ColumnTransformer\n",
    "from sklearn.preprocessing import OneHotEncoder\n",
    "ct = ColumnTransformer([(\"onehot\",OneHotEncoder (drop='first'),[0,5,9])],remainder=\"passthrough\") \n",
    "X=ct.fit_transform(X)"
   ]
  },
  {
   "cell_type": "code",
   "execution_count": null,
   "metadata": {
    "colab": {
     "base_uri": "https://localhost:8080/"
    },
    "id": "IgkQy2xDQaw1",
    "outputId": "dada96da-465c-41de-8124-08a6ebee0a5b"
   },
   "outputs": [],
   "source": [
    "joblib.dump(ct, \"column\")"
   ]
  },
  {
   "cell_type": "code",
   "execution_count": null,
   "metadata": {
    "colab": {
     "base_uri": "https://localhost:8080/"
    },
    "id": "fjIpvOQkQa0Y",
    "outputId": "5151be79-c8c6-43eb-f18b-ac9889e33bfd"
   },
   "outputs": [],
   "source": [
    "X"
   ]
  },
  {
   "cell_type": "code",
   "execution_count": null,
   "metadata": {
    "colab": {
     "base_uri": "https://localhost:8080/"
    },
    "id": "fx0uE_jaOxwq",
    "outputId": "f2aad6fe-0863-447e-cdbd-1ebf5b215e93"
   },
   "outputs": [],
   "source": [
    "X[0]"
   ]
  },
  {
   "cell_type": "code",
   "execution_count": null,
   "metadata": {
    "colab": {
     "base_uri": "https://localhost:8080/"
    },
    "id": "NB_FOwiKSz3a",
    "outputId": "55c45b77-3a2b-4e64-e268-75e89f60c8b1"
   },
   "outputs": [],
   "source": [
    "X.shape"
   ]
  },
  {
   "cell_type": "code",
   "execution_count": null,
   "metadata": {
    "colab": {
     "base_uri": "https://localhost:8080/"
    },
    "id": "jDIoSSTJTcru",
    "outputId": "1a58fb80-869e-4bcb-8cd0-585afeb73642"
   },
   "outputs": [],
   "source": [
    "y.shape"
   ]
  },
  {
   "cell_type": "code",
   "execution_count": null,
   "metadata": {
    "colab": {
     "base_uri": "https://localhost:8080/",
     "height": 302
    },
    "id": "kK0RZmDTTq88",
    "outputId": "57f7533a-f3cd-4c47-b1d8-c9ec4495a200"
   },
   "outputs": [],
   "source": [
    "sns.countplot(y)\n"
   ]
  },
  {
   "cell_type": "code",
   "execution_count": null,
   "metadata": {
    "colab": {
     "base_uri": "https://localhost:8080/"
    },
    "id": "iXFvP75eTtxP",
    "outputId": "cc2d40f3-9f1b-4010-9847-a2408d50a534"
   },
   "outputs": [],
   "source": [
    "from imblearn.over_sampling import SMOTE\n",
    "sm = SMOTE()\n",
    "X_res, y_res = sm.fit_resample(X, y)\n",
    "print(\"Before OverSampling, counts of label '1': {}\".format(sum(y==1))) \n",
    "print(\"Before OverSampling, counts of label '0': {} \\n\".format(sum(y==0)))\n",
    "print('After OverSampling, the shape of train_X: {}'.format(X_res.shape))\n",
    "print('After OverSampling, the shape of train_y: {} \\n'.format(y_res.shape))\n",
    "print(\"After OverSampling, counts of label '1': {}\".format(sum(y_res==1)))\n",
    "print(\"After OverSampling, counts of label '0': {}\".format(sum(y_res==0)))"
   ]
  },
  {
   "cell_type": "code",
   "execution_count": null,
   "metadata": {
    "colab": {
     "base_uri": "https://localhost:8080/",
     "height": 302
    },
    "id": "zCFNh1Y2TrK5",
    "outputId": "b6d058c1-9c4e-4e19-d018-854525890726"
   },
   "outputs": [],
   "source": [
    "sns.countplot(y_res)"
   ]
  },
  {
   "cell_type": "code",
   "execution_count": null,
   "metadata": {
    "id": "JF8h6iGqTzeh"
   },
   "outputs": [],
   "source": [
    "from sklearn.model_selection import train_test_split\n",
    "X_train, X_test, y_train, y_test = train_test_split( X_res, y_res, test_size=0.2, random_state=42)"
   ]
  },
  {
   "cell_type": "code",
   "execution_count": null,
   "metadata": {
    "colab": {
     "base_uri": "https://localhost:8080/"
    },
    "id": "0QrXQsWfTzsS",
    "outputId": "91370a1d-794c-4f4f-d5b1-5603559ca7ba"
   },
   "outputs": [
    {
     "name": "stdout",
     "output_type": "stream",
     "text": [
      "****Decision Tree Model Results****\n",
      "[[880  44]\n",
      " [ 42 914]]\n",
      "              precision    recall  f1-score   support\n",
      "\n",
      "           0       0.95      0.95      0.95       924\n",
      "           1       0.95      0.96      0.96       956\n",
      "\n",
      "    accuracy                           0.95      1880\n",
      "   macro avg       0.95      0.95      0.95      1880\n",
      "weighted avg       0.95      0.95      0.95      1880\n",
      "\n"
     ]
    }
   ],
   "source": [
    "dtc = DecisionTreeClassifier()\n",
    "dtc.fit(X_train,y_train) \n",
    "dtc_pred = dtc.predict(X_test)\n",
    "print('****Decision Tree Model Results****')\n",
    "print(confusion_matrix(dtc_pred, y_test))\n",
    "print(classification_report(dtc_pred, y_test))"
   ]
  },
  {
   "cell_type": "code",
   "execution_count": null,
   "metadata": {
    "colab": {
     "base_uri": "https://localhost:8080/"
    },
    "id": "TWKQko_CTzx4",
    "outputId": "e87d6cee-19a4-4324-f468-4c0bbb5dca8a"
   },
   "outputs": [
    {
     "name": "stdout",
     "output_type": "stream",
     "text": [
      "*** Random Forest***\n",
      "[[909  47]\n",
      " [ 13 911]]\n",
      "              precision    recall  f1-score   support\n",
      "\n",
      "           0       0.99      0.95      0.97       956\n",
      "           1       0.95      0.99      0.97       924\n",
      "\n",
      "    accuracy                           0.97      1880\n",
      "   macro avg       0.97      0.97      0.97      1880\n",
      "weighted avg       0.97      0.97      0.97      1880\n",
      "\n"
     ]
    }
   ],
   "source": [
    "rf = RandomForestClassifier()\n",
    "rf.fit(X_train, y_train)\n",
    "rf_pred = rf.predict(X_test)\n",
    "print('*** Random Forest***')\n",
    "print(confusion_matrix(rf_pred, y_test))\n",
    "print(classification_report(rf_pred, y_test))"
   ]
  },
  {
   "cell_type": "code",
   "execution_count": null,
   "metadata": {
    "colab": {
     "base_uri": "https://localhost:8080/"
    },
    "id": "6lrqYW2UT0Dh",
    "outputId": "1aae6b3a-87f4-44e4-dfbf-33136ca42ab4"
   },
   "outputs": [
    {
     "name": "stdout",
     "output_type": "stream",
     "text": [
      "[[698 187]\n",
      " [224 771]]\n",
      "** Logistic Regression***\n",
      "              precision    recall  f1-score   support\n",
      "\n",
      "           0       0.76      0.79      0.77       885\n",
      "           1       0.80      0.77      0.79       995\n",
      "\n",
      "    accuracy                           0.78      1880\n",
      "   macro avg       0.78      0.78      0.78      1880\n",
      "weighted avg       0.78      0.78      0.78      1880\n",
      "\n"
     ]
    }
   ],
   "source": [
    "lr = LogisticRegression()\n",
    "lr.fit(X_train, y_train)\n",
    "lr_pred = lr.predict(X_test)\n",
    "print(confusion_matrix(lr_pred, y_test))\n",
    "print('** Logistic Regression***')\n",
    "print(classification_report(lr_pred, y_test))"
   ]
  },
  {
   "cell_type": "code",
   "execution_count": null,
   "metadata": {
    "colab": {
     "base_uri": "https://localhost:8080/"
    },
    "id": "K82gVTVUT0N8",
    "outputId": "e5a50eb6-5549-437d-e669-3bdebd95208f"
   },
   "outputs": [
    {
     "name": "stdout",
     "output_type": "stream",
     "text": [
      "***Support vector classifier***\n",
      "[[658 170]\n",
      " [264 788]]\n",
      "              precision    recall  f1-score   support\n",
      "\n",
      "           0       0.71      0.79      0.75       828\n",
      "           1       0.82      0.75      0.78      1052\n",
      "\n",
      "    accuracy                           0.77      1880\n",
      "   macro avg       0.77      0.77      0.77      1880\n",
      "weighted avg       0.77      0.77      0.77      1880\n",
      "\n"
     ]
    }
   ],
   "source": [
    "svc = SVC()\n",
    "svc.fit(X_train, y_train)\n",
    "svc_pred = svc.predict(X_test)\n",
    "print('***Support vector classifier***')\n",
    "print(confusion_matrix(svc_pred, y_test))\n",
    "print(classification_report(svc_pred, y_test))"
   ]
  },
  {
   "cell_type": "code",
   "execution_count": null,
   "metadata": {
    "colab": {
     "base_uri": "https://localhost:8080/"
    },
    "id": "BjDIw5d2T0LR",
    "outputId": "cabf3873-6376-4bc5-86ef-8b610b2ae3c9"
   },
   "outputs": [
    {
     "name": "stdout",
     "output_type": "stream",
     "text": [
      "***K-Nearest Neighbours***\n",
      "[[762  23]\n",
      " [160 935]]\n",
      "              precision    recall  f1-score   support\n",
      "\n",
      "           0       0.83      0.97      0.89       785\n",
      "           1       0.98      0.85      0.91      1095\n",
      "\n",
      "    accuracy                           0.90      1880\n",
      "   macro avg       0.90      0.91      0.90      1880\n",
      "weighted avg       0.91      0.90      0.90      1880\n",
      "\n"
     ]
    }
   ],
   "source": [
    "knn = KNeighborsClassifier()\n",
    "knn.fit(X_train, y_train)\n",
    "knn_pred = knn.predict(X_test)\n",
    "print('***K-Nearest Neighbours***')\n",
    "print(confusion_matrix(knn_pred, y_test))\n",
    "print(classification_report(knn_pred, y_test))"
   ]
  },
  {
   "cell_type": "code",
   "execution_count": null,
   "metadata": {
    "id": "sKLkQgK7T0Ip"
   },
   "outputs": [],
   "source": [
    "cross_valid_scores = {}"
   ]
  },
  {
   "cell_type": "code",
   "execution_count": null,
   "metadata": {
    "colab": {
     "base_uri": "https://localhost:8080/"
    },
    "id": "8bvc7p-znaz9",
    "outputId": "0e64b2ce-b98a-4d24-d770-3af63ac2b820"
   },
   "outputs": [
    {
     "name": "stdout",
     "output_type": "stream",
     "text": [
      "** Applying Grid Search to Decision tree**\n",
      "CPU times: user 708 ms, sys: 11.8 ms, total: 720 ms\n",
      "Wall time: 719 ms\n"
     ]
    }
   ],
   "source": [
    "%%time\n",
    "parameters = {\n",
    "     \"max_depth\": [3, 5, 7, 9, 11, 13],\n",
    "}\n",
    "model_dtc = DecisionTreeClassifier(\n",
    "     random_state=42, \n",
    "     class_weight='balanced',\n",
    ")\n",
    "model_dtc = GridSearchCV(\n",
    "     model_dtc,\n",
    "     parameters,\n",
    "     cv=5,\n",
    ")\n",
    "model_dtc.fit(X_train, y_train)\n",
    "model_dtc_pred = model_dtc.predict(X_test)\n",
    "print('** Applying Grid Search to Decision tree**')"
   ]
  },
  {
   "cell_type": "code",
   "execution_count": null,
   "metadata": {
    "colab": {
     "base_uri": "https://localhost:8080/"
    },
    "id": "0xaycpBJna9A",
    "outputId": "7ad4e150-f222-4490-9405-fd7117cb580d"
   },
   "outputs": [
    {
     "name": "stdout",
     "output_type": "stream",
     "text": [
      "** Applying Grid Search to Decision tree***\n",
      "              precision    recall  f1-score   support\n",
      "\n",
      "           0       0.96      0.94      0.95       939\n",
      "           1       0.95      0.96      0.95       941\n",
      "\n",
      "    accuracy                           0.95      1880\n",
      "   macro avg       0.95      0.95      0.95      1880\n",
      "weighted avg       0.95      0.95      0.95      1880\n",
      "\n",
      "Best parameters {'max_depth': 13}\n",
      "Mean cross-validated accuracy score of the best_estimator: 0.947\n",
      "-----\n"
     ]
    }
   ],
   "source": [
    "print('** Applying Grid Search to Decision tree***')\n",
    "print(classification_report(model_dtc_pred, y_test))\n",
    "print(f'Best parameters {model_dtc.best_params_}') \n",
    "print(\n",
    "f'Mean cross-validated accuracy score of the best_estimator: ' + \\\n",
    "f'{model_dtc.best_score_:.3f}'\n",
    ")\n",
    "cross_valid_scores['desicion_tree'] = model_dtc.best_score_ \n",
    "print('-----')"
   ]
  },
  {
   "cell_type": "code",
   "execution_count": null,
   "metadata": {
    "colab": {
     "base_uri": "https://localhost:8080/"
    },
    "id": "TUtI1BM3nbBC",
    "outputId": "6ded7114-570c-4ff5-8bc4-a834cfeaf3e5"
   },
   "outputs": [
    {
     "name": "stdout",
     "output_type": "stream",
     "text": [
      "*** Applying Grid Search to Random Forest**\n",
      "              precision    recall  f1-score   support\n",
      "\n",
      "           0       0.99      0.95      0.97       963\n",
      "           1       0.95      0.99      0.97       917\n",
      "\n",
      "    accuracy                           0.97      1880\n",
      "   macro avg       0.97      0.97      0.97      1880\n",
      "weighted avg       0.97      0.97      0.97      1880\n",
      "\n",
      "Best parameters {'max_depth': 13, 'n_estimators': 25}\n",
      "Mean cross-validated accuracy score of the best_estimator: 0.973\n"
     ]
    }
   ],
   "source": [
    "parameters = {\n",
    "     \"n_estimators\": [5, 10, 15, 20, 25],\n",
    "     \"max_depth\": [3, 5, 7, 9, 11, 13],\n",
    "}\n",
    "model_rf = RandomForestClassifier(\n",
    "      random_state=42,\n",
    "      class_weight='balanced',\n",
    ")\n",
    "model_rf = GridSearchCV( \n",
    "  model_rf,\n",
    "  parameters,\n",
    "  cv=5,\n",
    ")\n",
    "model_rf.fit(X_train, y_train) \n",
    "model_rf_pred = model_rf.predict(X_test) \n",
    "print('*** Applying Grid Search to Random Forest**') \n",
    "print(classification_report(model_rf_pred, y_test)) \n",
    "print(f'Best parameters {model_rf.best_params_}')\n",
    "print(\n",
    "      f'Mean cross-validated accuracy score of the best_estimator: '+ \\\n",
    "      f'{model_rf.best_score_:.3f}'\n",
    " )\n",
    "cross_valid_scores['random_forest'] = model_rf.best_score_"
   ]
  },
  {
   "cell_type": "code",
   "execution_count": null,
   "metadata": {
    "colab": {
     "base_uri": "https://localhost:8080/"
    },
    "id": "Tu_LI7wd2jD3",
    "outputId": "fe7bb703-7928-46cc-f9d6-a65fbfcc447e"
   },
   "outputs": [
    {
     "data": {
      "text/plain": [
       "['model']"
      ]
     },
     "execution_count": 82,
     "metadata": {},
     "output_type": "execute_result"
    }
   ],
   "source": [
    "import joblib\n",
    "joblib.dump(model_rf,\"model\")"
   ]
  },
  {
   "cell_type": "code",
   "execution_count": null,
   "metadata": {
    "id": "txLMout28Q2G"
   },
   "outputs": [],
   "source": []
  }
 ],
 "metadata": {
  "colab": {
   "collapsed_sections": [],
   "provenance": []
  },
  "kernelspec": {
   "display_name": "Python 3 (ipykernel)",
   "language": "python",
   "name": "python3"
  },
  "language_info": {
   "codemirror_mode": {
    "name": "ipython",
    "version": 3
   },
   "file_extension": ".py",
   "mimetype": "text/x-python",
   "name": "python",
   "nbconvert_exporter": "python",
   "pygments_lexer": "ipython3",
   "version": "3.9.7"
  },
  "vscode": {
   "interpreter": {
    "hash": "9faa2c45bc6a2974b16a42b9835001dfe3129a1387f7e433c4383c6393842733"
   }
  }
 },
 "nbformat": 4,
 "nbformat_minor": 1
}
